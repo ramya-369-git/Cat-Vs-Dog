{
 "cells": [
  {
   "cell_type": "code",
   "execution_count": 2,
   "id": "97d374a0-5e26-49fd-af5a-55b0a168460c",
   "metadata": {},
   "outputs": [],
   "source": [
    "from tensorflow.keras.preprocessing.image import ImageDataGenerator"
   ]
  },
  {
   "cell_type": "code",
   "execution_count": 3,
   "id": "3e1b6a32-1090-4557-a0d7-53515ebb45ba",
   "metadata": {},
   "outputs": [],
   "source": [
    "train_datagen=ImageDataGenerator(rescale=1/255.0,shear_range=0.2,zoom_range=0.2,brightness_range=[0.5,1.5],validation_split=0.2,horizontal_flip=True)"
   ]
  },
  {
   "cell_type": "code",
   "execution_count": 4,
   "id": "91379eb2-04a7-42a6-8c74-c8e9e227e3e9",
   "metadata": {},
   "outputs": [
    {
     "name": "stdout",
     "output_type": "stream",
     "text": [
      "Found 6404 images belonging to 2 classes.\n"
     ]
    }
   ],
   "source": [
    "train_set=train_datagen.flow_from_directory(r\"C:\\Users\\pramy\\OneDrive\\Desktop\\cat_vs_dog\\dataset\",target_size=(128,128),batch_size=32,class_mode='binary',subset='training')"
   ]
  },
  {
   "cell_type": "code",
   "execution_count": 5,
   "id": "e2e134bd-c247-405c-84ae-9ddea0916508",
   "metadata": {},
   "outputs": [
    {
     "name": "stdout",
     "output_type": "stream",
     "text": [
      "Found 1601 images belonging to 2 classes.\n"
     ]
    }
   ],
   "source": [
    "validation_set=train_datagen.flow_from_directory(r\"C:\\Users\\pramy\\OneDrive\\Desktop\\cat_vs_dog\\dataset\",target_size=(128,128),batch_size=32,class_mode='binary',subset='validation')"
   ]
  },
  {
   "cell_type": "code",
   "execution_count": 6,
   "id": "b8a05b80-609b-4bd6-a1c8-8d2353ee84db",
   "metadata": {},
   "outputs": [],
   "source": [
    "from keras.models import Sequential\n",
    "from keras.layers import Conv2D,MaxPooling2D,Flatten,Dense,Dropout"
   ]
  },
  {
   "cell_type": "code",
   "execution_count": 7,
   "id": "108e684d-3cc2-48ca-afd1-9ec3c6c16e09",
   "metadata": {},
   "outputs": [],
   "source": [
    "model=Sequential()"
   ]
  },
  {
   "cell_type": "code",
   "execution_count": 8,
   "id": "9714bf05-6cca-4567-9980-419ab45eaac5",
   "metadata": {},
   "outputs": [
    {
     "name": "stderr",
     "output_type": "stream",
     "text": [
      "C:\\Users\\pramy\\AppData\\Local\\Programs\\Python\\Python311\\Lib\\site-packages\\keras\\src\\layers\\convolutional\\base_conv.py:113: UserWarning: Do not pass an `input_shape`/`input_dim` argument to a layer. When using Sequential models, prefer using an `Input(shape)` object as the first layer in the model instead.\n",
      "  super().__init__(activity_regularizer=activity_regularizer, **kwargs)\n"
     ]
    }
   ],
   "source": [
    "model.add(Conv2D(32,(3,3),activation='relu',input_shape=(128,128,3)))\n",
    "model.add(MaxPooling2D(pool_size=(2,2)))\n",
    "model.add(Conv2D(64,(3,3),activation='relu'))\n",
    "model.add(MaxPooling2D(pool_size=(2,2)))\n",
    "model.add(Conv2D(128,(3,3),activation='relu'))\n",
    "model.add(MaxPooling2D(pool_size=(2,2)))\n",
    "model.add(Conv2D(256,(3,3),activation='relu'))\n",
    "model.add(MaxPooling2D(pool_size=(2,2)))"
   ]
  },
  {
   "cell_type": "code",
   "execution_count": 9,
   "id": "93f68e55-ce68-4e97-af37-8d92e4de08e4",
   "metadata": {},
   "outputs": [],
   "source": [
    "model.add(Flatten())"
   ]
  },
  {
   "cell_type": "code",
   "execution_count": 10,
   "id": "c6f19982-d825-4124-ab37-d4850d4611e8",
   "metadata": {},
   "outputs": [],
   "source": [
    "model.add(Dense(units=128,activation='relu'))\n",
    "model.add(Dropout(0.5))\n",
    "model.add(Dense(units=1,activation='sigmoid'))"
   ]
  },
  {
   "cell_type": "code",
   "execution_count": 11,
   "id": "953eab2a-15f8-4ffd-ac39-ce0d10e8f93e",
   "metadata": {},
   "outputs": [],
   "source": [
    "model.compile(optimizer='adam',loss='binary_crossentropy',metrics=['accuracy'])"
   ]
  },
  {
   "cell_type": "code",
   "execution_count": 16,
   "id": "045b4140-b376-4ffb-aad3-62250228489b",
   "metadata": {},
   "outputs": [
    {
     "name": "stderr",
     "output_type": "stream",
     "text": [
      "C:\\Users\\pramy\\AppData\\Local\\Programs\\Python\\Python311\\Lib\\site-packages\\keras\\src\\trainers\\data_adapters\\py_dataset_adapter.py:121: UserWarning: Your `PyDataset` class should call `super().__init__(**kwargs)` in its constructor. `**kwargs` can include `workers`, `use_multiprocessing`, `max_queue_size`. Do not pass these arguments to `fit()`, as they will be ignored.\n",
      "  self._warn_if_super_not_called()\n"
     ]
    },
    {
     "name": "stdout",
     "output_type": "stream",
     "text": [
      "Epoch 1/20\n",
      "\u001b[1m201/201\u001b[0m \u001b[32m━━━━━━━━━━━━━━━━━━━━\u001b[0m\u001b[37m\u001b[0m \u001b[1m180s\u001b[0m 883ms/step - accuracy: 0.5223 - loss: 0.6964 - val_accuracy: 0.5646 - val_loss: 0.6812\n",
      "Epoch 2/20\n",
      "\u001b[1m201/201\u001b[0m \u001b[32m━━━━━━━━━━━━━━━━━━━━\u001b[0m\u001b[37m\u001b[0m \u001b[1m74s\u001b[0m 369ms/step - accuracy: 0.5921 - loss: 0.6729 - val_accuracy: 0.6309 - val_loss: 0.6371\n",
      "Epoch 3/20\n",
      "\u001b[1m201/201\u001b[0m \u001b[32m━━━━━━━━━━━━━━━━━━━━\u001b[0m\u001b[37m\u001b[0m \u001b[1m75s\u001b[0m 371ms/step - accuracy: 0.6349 - loss: 0.6316 - val_accuracy: 0.6771 - val_loss: 0.5993\n",
      "Epoch 4/20\n",
      "\u001b[1m201/201\u001b[0m \u001b[32m━━━━━━━━━━━━━━━━━━━━\u001b[0m\u001b[37m\u001b[0m \u001b[1m72s\u001b[0m 360ms/step - accuracy: 0.6866 - loss: 0.6067 - val_accuracy: 0.7002 - val_loss: 0.5907\n",
      "Epoch 5/20\n",
      "\u001b[1m201/201\u001b[0m \u001b[32m━━━━━━━━━━━━━━━━━━━━\u001b[0m\u001b[37m\u001b[0m \u001b[1m73s\u001b[0m 362ms/step - accuracy: 0.7060 - loss: 0.5685 - val_accuracy: 0.7139 - val_loss: 0.5518\n",
      "Epoch 6/20\n",
      "\u001b[1m201/201\u001b[0m \u001b[32m━━━━━━━━━━━━━━━━━━━━\u001b[0m\u001b[37m\u001b[0m \u001b[1m73s\u001b[0m 364ms/step - accuracy: 0.7376 - loss: 0.5337 - val_accuracy: 0.7283 - val_loss: 0.5498\n",
      "Epoch 7/20\n",
      "\u001b[1m201/201\u001b[0m \u001b[32m━━━━━━━━━━━━━━━━━━━━\u001b[0m\u001b[37m\u001b[0m \u001b[1m76s\u001b[0m 375ms/step - accuracy: 0.7432 - loss: 0.5213 - val_accuracy: 0.7614 - val_loss: 0.4867\n",
      "Epoch 8/20\n",
      "\u001b[1m201/201\u001b[0m \u001b[32m━━━━━━━━━━━━━━━━━━━━\u001b[0m\u001b[37m\u001b[0m \u001b[1m73s\u001b[0m 362ms/step - accuracy: 0.7630 - loss: 0.4952 - val_accuracy: 0.7826 - val_loss: 0.4764\n",
      "Epoch 9/20\n",
      "\u001b[1m201/201\u001b[0m \u001b[32m━━━━━━━━━━━━━━━━━━━━\u001b[0m\u001b[37m\u001b[0m \u001b[1m73s\u001b[0m 360ms/step - accuracy: 0.7730 - loss: 0.4733 - val_accuracy: 0.7758 - val_loss: 0.4769\n",
      "Epoch 10/20\n",
      "\u001b[1m201/201\u001b[0m \u001b[32m━━━━━━━━━━━━━━━━━━━━\u001b[0m\u001b[37m\u001b[0m \u001b[1m74s\u001b[0m 367ms/step - accuracy: 0.7910 - loss: 0.4547 - val_accuracy: 0.7958 - val_loss: 0.4341\n",
      "Epoch 11/20\n",
      "\u001b[1m201/201\u001b[0m \u001b[32m━━━━━━━━━━━━━━━━━━━━\u001b[0m\u001b[37m\u001b[0m \u001b[1m73s\u001b[0m 363ms/step - accuracy: 0.7958 - loss: 0.4222 - val_accuracy: 0.7920 - val_loss: 0.4359\n",
      "Epoch 12/20\n",
      "\u001b[1m201/201\u001b[0m \u001b[32m━━━━━━━━━━━━━━━━━━━━\u001b[0m\u001b[37m\u001b[0m \u001b[1m73s\u001b[0m 361ms/step - accuracy: 0.8126 - loss: 0.4071 - val_accuracy: 0.8220 - val_loss: 0.4118\n",
      "Epoch 13/20\n",
      "\u001b[1m201/201\u001b[0m \u001b[32m━━━━━━━━━━━━━━━━━━━━\u001b[0m\u001b[37m\u001b[0m \u001b[1m73s\u001b[0m 365ms/step - accuracy: 0.8164 - loss: 0.4080 - val_accuracy: 0.8307 - val_loss: 0.3913\n",
      "Epoch 14/20\n",
      "\u001b[1m201/201\u001b[0m \u001b[32m━━━━━━━━━━━━━━━━━━━━\u001b[0m\u001b[37m\u001b[0m \u001b[1m74s\u001b[0m 366ms/step - accuracy: 0.8374 - loss: 0.3672 - val_accuracy: 0.8245 - val_loss: 0.3899\n",
      "Epoch 15/20\n",
      "\u001b[1m201/201\u001b[0m \u001b[32m━━━━━━━━━━━━━━━━━━━━\u001b[0m\u001b[37m\u001b[0m \u001b[1m73s\u001b[0m 365ms/step - accuracy: 0.8427 - loss: 0.3557 - val_accuracy: 0.8345 - val_loss: 0.3870\n",
      "Epoch 16/20\n",
      "\u001b[1m201/201\u001b[0m \u001b[32m━━━━━━━━━━━━━━━━━━━━\u001b[0m\u001b[37m\u001b[0m \u001b[1m73s\u001b[0m 362ms/step - accuracy: 0.8551 - loss: 0.3247 - val_accuracy: 0.8407 - val_loss: 0.3580\n",
      "Epoch 17/20\n",
      "\u001b[1m201/201\u001b[0m \u001b[32m━━━━━━━━━━━━━━━━━━━━\u001b[0m\u001b[37m\u001b[0m \u001b[1m73s\u001b[0m 361ms/step - accuracy: 0.8707 - loss: 0.3085 - val_accuracy: 0.8239 - val_loss: 0.3762\n",
      "Epoch 18/20\n",
      "\u001b[1m201/201\u001b[0m \u001b[32m━━━━━━━━━━━━━━━━━━━━\u001b[0m\u001b[37m\u001b[0m \u001b[1m73s\u001b[0m 362ms/step - accuracy: 0.8648 - loss: 0.3013 - val_accuracy: 0.8320 - val_loss: 0.3806\n",
      "Epoch 19/20\n",
      "\u001b[1m201/201\u001b[0m \u001b[32m━━━━━━━━━━━━━━━━━━━━\u001b[0m\u001b[37m\u001b[0m \u001b[1m73s\u001b[0m 364ms/step - accuracy: 0.8665 - loss: 0.3105 - val_accuracy: 0.8364 - val_loss: 0.3692\n",
      "Epoch 20/20\n",
      "\u001b[1m201/201\u001b[0m \u001b[32m━━━━━━━━━━━━━━━━━━━━\u001b[0m\u001b[37m\u001b[0m \u001b[1m73s\u001b[0m 363ms/step - accuracy: 0.8757 - loss: 0.2875 - val_accuracy: 0.8451 - val_loss: 0.3379\n"
     ]
    },
    {
     "data": {
      "text/plain": [
       "<keras.src.callbacks.history.History at 0x27631b2a150>"
      ]
     },
     "execution_count": 16,
     "metadata": {},
     "output_type": "execute_result"
    }
   ],
   "source": [
    "model.fit(train_set,epochs=20,validation_data=validation_set)"
   ]
  },
  {
   "cell_type": "code",
   "execution_count": 17,
   "id": "e4ff0dd0-ad7d-4d23-b41d-8c8672f0514c",
   "metadata": {},
   "outputs": [],
   "source": [
    "from keras.preprocessing import image\n",
    "import numpy as np"
   ]
  },
  {
   "cell_type": "code",
   "execution_count": 31,
   "id": "65211a2f-e7d6-4afd-9bb5-82832e65dffa",
   "metadata": {},
   "outputs": [
    {
     "name": "stdout",
     "output_type": "stream",
     "text": [
      "\u001b[1m1/1\u001b[0m \u001b[32m━━━━━━━━━━━━━━━━━━━━\u001b[0m\u001b[37m\u001b[0m \u001b[1m0s\u001b[0m 48ms/step\n"
     ]
    }
   ],
   "source": [
    "img1=image.load_img(r\"C:\\Users\\pramy\\OneDrive\\Desktop\\cat_vs_dog\\img1.jpeg\",target_size=(128,128))\n",
    "img1=image.img_to_array(img1)\n",
    "img1=np.expand_dims(img1,axis=0)\n",
    "val1=model.predict(img1)"
   ]
  },
  {
   "cell_type": "code",
   "execution_count": 32,
   "id": "0742623e-6a70-4457-a798-ba1cee4e5bed",
   "metadata": {},
   "outputs": [
    {
     "name": "stdout",
     "output_type": "stream",
     "text": [
      "Cat\n"
     ]
    }
   ],
   "source": [
    "if val1[0][0] <0.5:\n",
    "    print('Cat')\n",
    "else:\n",
    "    print('Dog')"
   ]
  },
  {
   "cell_type": "code",
   "execution_count": 35,
   "id": "15689e55-e527-4953-af79-5b688eefded1",
   "metadata": {},
   "outputs": [
    {
     "name": "stdout",
     "output_type": "stream",
     "text": [
      "\u001b[1m1/1\u001b[0m \u001b[32m━━━━━━━━━━━━━━━━━━━━\u001b[0m\u001b[37m\u001b[0m \u001b[1m0s\u001b[0m 43ms/step\n"
     ]
    }
   ],
   "source": [
    "img2=image.load_img(r\"C:\\Users\\pramy\\OneDrive\\Desktop\\cat_vs_dog\\img2.jpg\",target_size=(128,128))\n",
    "img2=image.img_to_array(img2)\n",
    "img2=np.expand_dims(img2,axis=0)\n",
    "val2=model.predict(img2)"
   ]
  },
  {
   "cell_type": "code",
   "execution_count": 36,
   "id": "600ea884-6fc8-49ee-ae3e-ac688f03f5ab",
   "metadata": {},
   "outputs": [
    {
     "name": "stdout",
     "output_type": "stream",
     "text": [
      "Dog\n"
     ]
    }
   ],
   "source": [
    "if val2[0][0] <0.5:\n",
    "    print('Cat')\n",
    "else:\n",
    "    print('Dog')"
   ]
  },
  {
   "cell_type": "code",
   "execution_count": null,
   "id": "f6e721bb-c4bc-4d97-8fff-4ce7c81ed71c",
   "metadata": {},
   "outputs": [],
   "source": []
  }
 ],
 "metadata": {
  "kernelspec": {
   "display_name": "Python 3 (ipykernel)",
   "language": "python",
   "name": "python3"
  },
  "language_info": {
   "codemirror_mode": {
    "name": "ipython",
    "version": 3
   },
   "file_extension": ".py",
   "mimetype": "text/x-python",
   "name": "python",
   "nbconvert_exporter": "python",
   "pygments_lexer": "ipython3",
   "version": "3.11.0"
  }
 },
 "nbformat": 4,
 "nbformat_minor": 5
}
